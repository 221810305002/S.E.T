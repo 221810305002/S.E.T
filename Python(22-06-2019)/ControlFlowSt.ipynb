{
 "cells": [
  {
   "cell_type": "code",
   "execution_count": 7,
   "metadata": {},
   "outputs": [
    {
     "name": "stdout",
     "output_type": "stream",
     "text": [
      "False\n"
     ]
    }
   ],
   "source": [
    "x=10\n",
    "if(x<5):\\\n",
    "print(\"True\")\n",
    "else:\\\n",
    "print(\"False\")"
   ]
  },
  {
   "cell_type": "code",
   "execution_count": 14,
   "metadata": {},
   "outputs": [
    {
     "name": "stdout",
     "output_type": "stream",
     "text": [
      "Hello Good Afternoon\n"
     ]
    }
   ],
   "source": [
    "x=10\n",
    "if(x>15):\n",
    "    print(\"Hello good Morning\")\n",
    "else:\\\n",
    "    print(\"Hello Good Afternoon\")"
   ]
  },
  {
   "cell_type": "code",
   "execution_count": 18,
   "metadata": {},
   "outputs": [
    {
     "name": "stdout",
     "output_type": "stream",
     "text": [
      "enter n1=45\n",
      "enter n2=50\n",
      "50  is big\n"
     ]
    }
   ],
   "source": [
    "n1=input(\"enter n1=\")\n",
    "n2=input(\"enter n2=\")\n",
    "if(n1>n2):print(n1,\" is big\")\n",
    "else:print(n2,\" is big\")"
   ]
  },
  {
   "cell_type": "code",
   "execution_count": 34,
   "metadata": {},
   "outputs": [
    {
     "name": "stdout",
     "output_type": "stream",
     "text": [
      "enter n1=3\n",
      "enter n2=5\n",
      "the output is= 15\n"
     ]
    }
   ],
   "source": [
    "x=int(input(\"enter n1=\"))\n",
    "y=int(input(\"enter n2=\"))\n",
    "if(x==y):\n",
    "    print(\"the output is= \",x**2)\n",
    "else:\n",
    "    print(\"the output is=\",x*y)\n"
   ]
  },
  {
   "cell_type": "code",
   "execution_count": 42,
   "metadata": {},
   "outputs": [
    {
     "name": "stdout",
     "output_type": "stream",
     "text": [
      "x=0\n",
      "It's Zero\n"
     ]
    }
   ],
   "source": [
    "x=int(input(\"x=\"))\n",
    "if(x<0):\n",
    "    print(\"It's a negative number\")\n",
    "elif(x>0):\n",
    "    print(\"It's a positive number\")\n",
    "elif(x==0):\n",
    "    print(\"It's Zero\")"
   ]
  },
  {
   "cell_type": "markdown",
   "metadata": {},
   "source": [
    "loop statement --while \n",
    "\n",
    "syntax-\n",
    "\n",
    "while(condition):\n",
    "loop statements\n",
    "increment/decrement\n",
    "\n",
    "the loop will get executed as long as the condition is returns True and its terminates when the condition returns false."
   ]
  },
  {
   "cell_type": "code",
   "execution_count": 49,
   "metadata": {},
   "outputs": [
    {
     "name": "stdout",
     "output_type": "stream",
     "text": [
      "1\n",
      "2\n",
      "3\n",
      "4\n",
      "5\n",
      "6\n",
      "7\n",
      "8\n",
      "9\n",
      "10\n"
     ]
    }
   ],
   "source": [
    "n=1\n",
    "while(n<=10):\n",
    "    print(n) \n",
    "    n=n+1"
   ]
  },
  {
   "cell_type": "code",
   "execution_count": 50,
   "metadata": {},
   "outputs": [
    {
     "name": "stdout",
     "output_type": "stream",
     "text": [
      "10\n",
      "9\n",
      "8\n",
      "7\n",
      "6\n",
      "5\n",
      "4\n",
      "3\n",
      "2\n",
      "1\n"
     ]
    }
   ],
   "source": [
    "n=10\n",
    "while(n>=1):\n",
    "    print(n)\n",
    "    n=n-1"
   ]
  },
  {
   "cell_type": "code",
   "execution_count": 51,
   "metadata": {
    "scrolled": false
   },
   "outputs": [
    {
     "name": "stdout",
     "output_type": "stream",
     "text": [
      "-22\n",
      "-23\n",
      "-24\n",
      "-25\n",
      "-26\n",
      "-27\n",
      "-28\n",
      "-29\n",
      "-30\n",
      "-31\n",
      "-32\n",
      "-33\n",
      "-34\n",
      "-35\n",
      "-36\n",
      "-37\n",
      "-38\n",
      "-39\n",
      "-40\n",
      "-41\n",
      "-42\n",
      "-43\n",
      "-44\n",
      "-45\n"
     ]
    }
   ],
   "source": [
    "n=-22\n",
    "while(n>=-45):\n",
    "    print(n)\n",
    "    n=n-1"
   ]
  },
  {
   "cell_type": "code",
   "execution_count": 3,
   "metadata": {},
   "outputs": [
    {
     "name": "stdout",
     "output_type": "stream",
     "text": [
      "2550\n"
     ]
    }
   ],
   "source": [
    "x=0\n",
    "sum=0\n",
    "while(x<=100):\n",
    "    if(x%2==0):\n",
    "        sum=sum+x\n",
    "    x=x+1\n",
    "    \n",
    "print(sum)"
   ]
  },
  {
   "cell_type": "code",
   "execution_count": 4,
   "metadata": {},
   "outputs": [
    {
     "name": "stdout",
     "output_type": "stream",
     "text": [
      "enter x=145\n",
      "5\n",
      "4\n",
      "1\n"
     ]
    }
   ],
   "source": [
    "x=int(input(\"enter x=\"))\n",
    "while(x!=0):\n",
    "    r=x%10\n",
    "    print(r)\n",
    "    x=x//10"
   ]
  },
  {
   "cell_type": "code",
   "execution_count": 4,
   "metadata": {},
   "outputs": [
    {
     "name": "stdout",
     "output_type": "stream",
     "text": [
      "enter no.=1889\n",
      "Sum of even digits=  16\n"
     ]
    }
   ],
   "source": [
    "x=int(input(\"enter no.=\"))\n",
    "digit=0 ; sum=0\n",
    "while(x>0):\n",
    "    digit=int(x%10)\n",
    "    if(int(digit%2==0)):sum=sum+digit\n",
    "    x=x/10\n",
    "print(\"Sum of even digits= \",sum)"
   ]
  },
  {
   "cell_type": "code",
   "execution_count": 2,
   "metadata": {},
   "outputs": [
    {
     "name": "stdout",
     "output_type": "stream",
     "text": [
      "Enter no.145\n",
      "  five four one\n"
     ]
    }
   ],
   "source": [
    "x=int(input(\"Enter no.\"))\n",
    "x1=[\"one\",\"two\",\"three\",\"four\",\"five\",\"six\",\"seven\",\"eight\",\"nine\"]\n",
    "d=0\n",
    "c=0\n",
    "n=\" \"\n",
    "while(x>0):\n",
    "    d=x%10\n",
    "    n=n+\" \"+x1[d-1]\n",
    "    x=int(x/10)\n",
    "print(n)"
   ]
  },
  {
   "cell_type": "code",
   "execution_count": 3,
   "metadata": {},
   "outputs": [
    {
     "name": "stdout",
     "output_type": "stream",
     "text": [
      "enter n1=2\n",
      "enter n2=120\n",
      "enter n3=220\n",
      "output= 42\n"
     ]
    }
   ],
   "source": [
    "x1=int(input(\"enter n1=\"))\n",
    "x2=int(input(\"enter n2=\"))\n",
    "x3=int(input(\"enter n3=\"))\n",
    "t=x2\n",
    "c=0\n",
    "while(t<=x3):\n",
    "    t1=t\n",
    "    while(t1>0):\n",
    "        d=int(t1%10)\n",
    "        if(d==x1):c=c+1\n",
    "        t1=int(t1/10)\n",
    "    t=t+1\n",
    "\n",
    "print(\"output=\",c)"
   ]
  },
  {
   "cell_type": "code",
   "execution_count": null,
   "metadata": {},
   "outputs": [],
   "source": []
  }
 ],
 "metadata": {
  "kernelspec": {
   "display_name": "Python 3",
   "language": "python",
   "name": "python3"
  },
  "language_info": {
   "codemirror_mode": {
    "name": "ipython",
    "version": 3
   },
   "file_extension": ".py",
   "mimetype": "text/x-python",
   "name": "python",
   "nbconvert_exporter": "python",
   "pygments_lexer": "ipython3",
   "version": "3.7.3"
  }
 },
 "nbformat": 4,
 "nbformat_minor": 2
}
