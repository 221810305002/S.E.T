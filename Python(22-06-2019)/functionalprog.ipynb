{
 "cells": [
  {
   "cell_type": "code",
   "execution_count": 5,
   "metadata": {},
   "outputs": [
    {
     "name": "stdout",
     "output_type": "stream",
     "text": [
      "1 2 3 4 5 6 7 8 9 \n",
      "1 2 3 4 5 6 7 8 9 10 11 12 13 14 15 \n"
     ]
    }
   ],
   "source": [
    "def printNNaturalNumbers(n):\n",
    "    cnt=1\n",
    "    while(cnt<=n):\n",
    "        print(cnt,end=\" \")\n",
    "        cnt=cnt+1\n",
    "    print()\n",
    "    return\n",
    "\n",
    "printNNaturalNumbers(9)\n",
    "printNNaturalNumbers(15)"
   ]
  },
  {
   "cell_type": "code",
   "execution_count": 6,
   "metadata": {},
   "outputs": [
    {
     "name": "stdout",
     "output_type": "stream",
     "text": [
      "120\n",
      "3628800\n",
      "2432902008176640000\n"
     ]
    }
   ],
   "source": [
    "def findfact(n):\n",
    "    fact=1;\n",
    "    while(n!=0):\n",
    "        fact=fact*n\n",
    "        n=n-1\n",
    "    return fact\n",
    "print(findfact(5))\n",
    "print(findfact(10))\n",
    "print(findfact(20))"
   ]
  },
  {
   "cell_type": "code",
   "execution_count": 29,
   "metadata": {},
   "outputs": [
    {
     "name": "stdout",
     "output_type": "stream",
     "text": [
      " Please Enter the Maximum Value : 100\n",
      "Palindrome Numbers between 1 and 100 are : \n",
      "1   2   3   4   5   6   7   8   9   11   22   33   44   55   66   77   88   99   \n",
      "count= 18\n"
     ]
    }
   ],
   "source": [
    "maximum = int(input(\" Please Enter the Maximum Value : \"))\n",
    "count=0\n",
    "print(\"Palindrome Numbers between 1 and %d are : \"%maximum)\n",
    "for num in range(1, maximum + 1):\n",
    "    temp = num\n",
    "    reverse = 0\n",
    "    \n",
    "    while(temp > 0):\n",
    "        Reminder = temp % 10\n",
    "        reverse = (reverse * 10) + Reminder\n",
    "        temp = temp //10\n",
    "\n",
    "    if(num == reverse):\n",
    "        count=count+1\n",
    "        \n",
    "        print(\"%d \" %num, end = '  ')\n",
    "print(\"\\ncount=\",count)"
   ]
  },
  {
   "cell_type": "code",
   "execution_count": null,
   "metadata": {},
   "outputs": [],
   "source": [
    "## Problem Set  using Recursion and Iteration"
   ]
  },
  {
   "cell_type": "code",
   "execution_count": null,
   "metadata": {},
   "outputs": [],
   "source": [
    "# to find gcd og two numbers.\n",
    "\n",
    "bigNumber = int(input(\"Enter any number :\\t\"));\n",
    "smallNumber = int(input(\"Enter any number : \\t\"));\n",
    "\n",
    "if (bigNumber < smallNumber) :\n",
    "    bigNumber = smallNumber - bigNumber;\n",
    "    smallNumber = smallNumber - bigNumber;\n",
    "    bigNumber = bigNumber + smallNumber;\n",
    "\n",
    "while (bigNumber % smallNumber != 0) :\n",
    "\n",
    "    bigNumber = bigNumber % smallNumber;\n",
    "    bigNumber = smallNumber - bigNumber;\n",
    "    smallNumber = smallNumber - bigNumber;\n",
    "    bigNumber = bigNumber + smallNumber;\n",
    "\n",
    "print(smallNumber, \" Is the G.C.D \")"
   ]
  },
  {
   "cell_type": "code",
   "execution_count": null,
   "metadata": {},
   "outputs": [],
   "source": [
    "# factorial of number using iteration\n",
    "\n",
    "number = int(input('Enter any number:\\t\\t'))\n",
    "product = 1;\n",
    "\n",
    "for count in range(1,number+1) :\n",
    "    product = product*count;\n",
    "print ('factorial of ', number , \" is \" , product);    "
   ]
  },
  {
   "cell_type": "code",
   "execution_count": null,
   "metadata": {},
   "outputs": [],
   "source": [
    "# factorial of number using recursion\n",
    " \n",
    "number = int(input(\"enter a number:\\t\"))\n",
    "\n",
    "def returnFactorial(num) :\n",
    "    if (num == 1) : return 1;\n",
    "    elif (num == 0) : return 0;\n",
    "    elif (num < 0) : return -1;\n",
    "    else : return num*returnFactorial(num-1);\n",
    "print (\"factorial of \", number , \"is:\\t\", returnFactorial(number));        \n"
   ]
  },
  {
   "cell_type": "code",
   "execution_count": null,
   "metadata": {},
   "outputs": [],
   "source": [
    "# nth fibonacci number using iteration \n",
    "\n",
    "number = int(input('Enter any Number:\\t'))\n",
    "firstNumber = 0;secondNumber = 1;\n",
    "finalNumber = 0;\n",
    "count = 2;\n",
    "if number == 2 :print (number,\"rd fibonacci number :\\t 1\");\n",
    "elif number == 1 : print (number,\"rd fibonacci number :\\t 0\");\n",
    "else :\n",
    "    while (count < number) :\n",
    "        count = count + 1;\n",
    "        finalNumber = firstNumber + secondNumber;\n",
    "        firstNumber = secondNumber;\n",
    "        secondNumber = finalNumber;\n",
    "        \n",
    "    print (number,\"rd fibonacci number :\\t\",finalNumber);"
   ]
  },
  {
   "cell_type": "code",
   "execution_count": null,
   "metadata": {},
   "outputs": [],
   "source": [
    "# nth fibonacci numebr using recursion meathods\n",
    "\n",
    "number = int(input(\"Enter any numebr\\t\"))\n",
    "def findFibonacci (num) :\n",
    "    if (num == 1) : return 0;\n",
    "    elif (num == 2) : return 1;\n",
    "    else : return findFibonacci(num-1) + findFibonacci(num-2);\n",
    "\n",
    "\n",
    "print (number ,'rd fibonacci number it :\\t', findFibonacci(number));\n"
   ]
  },
  {
   "cell_type": "code",
   "execution_count": null,
   "metadata": {},
   "outputs": [],
   "source": [
    "# Power of a number using iteration. \n",
    "\n",
    "\n",
    "base = float(input(\"Enter a number:\\t\\t\\t\"));\n",
    "exponentDuplicate = exponent = int(input(\"Enter the exponent value:\\t\"));\n",
    "\n",
    "product = 1;\n",
    "\n",
    "while (exponent>0) :\n",
    "    product = product*base;\n",
    "    exponent = exponent - 1; \n",
    "#if (exponent == 0) : product = 1;\n",
    "\n",
    "while (exponent<0) :\n",
    "    product = 1/(product*base);\n",
    "    exponent = exponent + 1;\n",
    "\n",
    "print (\"\\n\" , base , \" to the power \" , exponentDuplicate , \" is :\\t\", product , \"\\n\")   \n"
   ]
  },
  {
   "cell_type": "code",
   "execution_count": null,
   "metadata": {},
   "outputs": [],
   "source": [
    "#To find power of number using recursion.\n",
    "\n",
    "\n",
    "base = float(input(\"Enter any number:\\t\"))\n",
    "exponentDuplicate = exponent = int(input(\"Enter exponent:\\t\\t\"));\n",
    "\n",
    "def FindPower(base, exponent, product = 1) :\n",
    "    if (exponent > 0) :\n",
    "        product = product*base;\n",
    "        exponent = exponent - 1;    \n",
    "    elif (exponent < 0) :\n",
    "        product = 1.0/(product * base);\n",
    "        exponent = exponent + 1;\n",
    "    if (exponent != 0) : return FindPower(base, exponent, product);\n",
    "    return product;\n",
    "\n",
    "print (\"\\n\" , base , \" to the power \" , exponentDuplicate , \" is :\\t\", FindPower(base, exponent), \"\\n\")"
   ]
  }
 ],
 "metadata": {
  "kernelspec": {
   "display_name": "Python 3",
   "language": "python",
   "name": "python3"
  },
  "language_info": {
   "codemirror_mode": {
    "name": "ipython",
    "version": 3
   },
   "file_extension": ".py",
   "mimetype": "text/x-python",
   "name": "python",
   "nbconvert_exporter": "python",
   "pygments_lexer": "ipython3",
   "version": "3.7.3"
  }
 },
 "nbformat": 4,
 "nbformat_minor": 2
}
