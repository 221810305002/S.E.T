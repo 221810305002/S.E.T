{
 "cells": [
  {
   "cell_type": "code",
   "execution_count": 1,
   "metadata": {},
   "outputs": [
    {
     "name": "stdout",
     "output_type": "stream",
     "text": [
      "enter the size of list3\n",
      "enter number: 2\n",
      "enter number: 3\n",
      "enter number: 3\n",
      "enter element to check: 4\n",
      "element not found\n"
     ]
    }
   ],
   "source": [
    "#linear search\n",
    "\n",
    "\n",
    "size=int(input(\"enter the size of list\"))\n",
    "list=[size]\n",
    "for count in range(0,size):\n",
    "    list.append(int(input(\"enter number: \")))\n",
    "check=int(input(\"enter element to check: \"))\n",
    "\n",
    "def linearsearch(x):\n",
    "    for count in range(0,size):\n",
    "        if(list[count]==x):return 1\n",
    "    else:return 0\n",
    "    \n",
    "    \n",
    "if(linearsearch(check)):print(\"element found\")\n",
    "else:print(\"element not found\")"
   ]
  },
  {
   "cell_type": "code",
   "execution_count": 6,
   "metadata": {},
   "outputs": [
    {
     "name": "stdout",
     "output_type": "stream",
     "text": [
      "enter size=3\n",
      "enter number=12\n",
      "enter number=1\n",
      "enter number=14\n",
      "enter number to check=1\n",
      "list in sorted order: [1, 12, 14]\n",
      "element found\n"
     ]
    }
   ],
   "source": [
    "#binary search\n",
    "\n",
    "size=int(input(\"enter size=\"))\n",
    "list=[]\n",
    "for count in range(0,size):\n",
    "    list.append(int(input(\"enter number=\")))\n",
    "check=int(input(\"enter number to check=\"))\n",
    "\n",
    "for i in range(0,len(list)):\n",
    "    for j in range(0,len(list)-(i+1)):\n",
    "        if(list[j]>list[j+1]):\n",
    "            temp=list[j]\n",
    "            list[j]=list[j+1]\n",
    "            list[j+1]=temp\n",
    "print(\"list in sorted order: \"+str(list))\n",
    "\n",
    "def binarysearch(x):\n",
    "    low=0;high=size-1\n",
    "    while(low<=high):\n",
    "        mid=int((low+high)/2)\n",
    "        if(x==list[mid]):return 1\n",
    "        elif(x>list[mid]):low=(low+mid)\n",
    "        else:high=int(high-mid)\n",
    "            \n",
    "if(binarysearch(check)):print(\"element found\")\n",
    "else:print(\"element not found\")"
   ]
  },
  {
   "cell_type": "code",
   "execution_count": 4,
   "metadata": {},
   "outputs": [
    {
     "name": "stdout",
     "output_type": "stream",
     "text": [
      "[10, 2, 20, 4, 30, 6, 40, 8, 50, 11, 60]\n"
     ]
    }
   ],
   "source": [
    "a=[1,2,3,4,5,6,7,8,9,11,12]\n",
    "a[::2]=[10,20,30,40,50,60]\n",
    "print(a)"
   ]
  },
  {
   "cell_type": "code",
   "execution_count": 8,
   "metadata": {},
   "outputs": [
    {
     "name": "stdout",
     "output_type": "stream",
     "text": [
      "1 None\n"
     ]
    }
   ],
   "source": [
    "#indexes of target item\n",
    "\n",
    "\n",
    "def index(a,target):\n",
    "    for i in range(0,len(a)):\n",
    "        if a[i]==target:\n",
    "            print(i,end=\" \")\n",
    "        \n",
    "a=[1,5,9,13,17,21]\n",
    "print(index(a,5))"
   ]
  },
  {
   "cell_type": "code",
   "execution_count": 4,
   "metadata": {},
   "outputs": [
    {
     "name": "stdout",
     "output_type": "stream",
     "text": [
      "enter size=5\n",
      "enter number=1\n",
      "enter number=3\n",
      "enter number=3\n",
      "enter number=4\n",
      "enter number=4\n",
      "enter number to check=3\n",
      "!! !!! "
     ]
    }
   ],
   "source": [
    "#dataprint\n",
    "\n",
    "def dataprint(a,check):\n",
    "    for i in range(0,len(a)):\n",
    "        count=0\n",
    "        if (a[i]==check):\n",
    "            count=i\n",
    "            j=0\n",
    "            while (j<=count):\n",
    "                print(\"!\",end=\"\")\n",
    "                j=j+1\n",
    "            print(end=\" \")\n",
    "        \n",
    "    \n",
    "size=int(input(\"enter size=\"))\n",
    "list=[]    \n",
    "for i in range(0,size):\n",
    "    list.append(int(input(\"enter number=\")))\n",
    "check=int(input(\"enter number to check=\"))\n",
    "dataprint(list,check)"
   ]
  },
  {
   "cell_type": "code",
   "execution_count": 8,
   "metadata": {},
   "outputs": [
    {
     "name": "stdout",
     "output_type": "stream",
     "text": [
      "enter size=3\n",
      "enter number=15\n",
      "enter number=20\n",
      "enter number=45\n"
     ]
    },
    {
     "data": {
      "text/plain": [
       "60"
      ]
     },
     "execution_count": 8,
     "metadata": {},
     "output_type": "execute_result"
    }
   ],
   "source": [
    "#linearsrch example\n",
    "\n",
    "def linear(a):\n",
    "    sum=0\n",
    "    for i in range(len(a)):\n",
    "        if (a[i]%3==0 and a[i]%5==0):\n",
    "            sum=sum+a[i]\n",
    "            \n",
    "    return sum\n",
    "\n",
    "size=int(input(\"enter size=\"))\n",
    "list=[size]    \n",
    "for i in range(0,size):\n",
    "    list.append(int(input(\"enter number=\")))\n",
    "linear(list)"
   ]
  },
  {
   "cell_type": "code",
   "execution_count": 4,
   "metadata": {},
   "outputs": [
    {
     "name": "stdout",
     "output_type": "stream",
     "text": [
      "enter size=5\n",
      "enter number=1\n",
      "enter number=2\n",
      "enter number=3\n",
      "enter number=4\n",
      "enter number=5\n",
      "[1, 2, 3, 4, 5]\n",
      "1 3 8 15 5 "
     ]
    }
   ],
   "source": [
    "#lnrsrc\n",
    "\n",
    "def lnr(a):\n",
    "    print(a)\n",
    "    for i in range(len(a)):\n",
    "        if(i==0 or i==len(a)-1):\n",
    "            print(a[i],end=\" \")\n",
    "        else:print(a[i-1]*a[i+1],end=\" \")\n",
    "            \n",
    "           \n",
    "        \n",
    "        \n",
    "size=int(input(\"enter size=\"))\n",
    "list=[]    \n",
    "for i in range(0,size):\n",
    "    list.append(int(input(\"enter number=\")))\n",
    "lnr(list)"
   ]
  },
  {
   "cell_type": "code",
   "execution_count": 5,
   "metadata": {},
   "outputs": [
    {
     "name": "stdout",
     "output_type": "stream",
     "text": [
      "enter size=7\n",
      "enter number=1\n",
      "enter number=6\n",
      "enter number=9\n",
      "enter number=4\n",
      "enter number=16\n",
      "enter number=19\n",
      "enter number=22\n",
      "[1, 6, 9, 4, 16, 19, 22]\n",
      "1 9 19 22 "
     ]
    }
   ],
   "source": [
    "#lnrsrc\n",
    "\n",
    "def linear(a):\n",
    "    print(a)\n",
    "    for i in range(len(a)):\n",
    "        if(i==0 or i==len(a)-1):\n",
    "            print(a[i],end=\" \")\n",
    "        elif(a[i-1]%2==0 and a[i+1]%2==0):\n",
    "            print(a[i],end=\" \")\n",
    "\n",
    "size=int(input(\"enter size=\"))\n",
    "list=[]    \n",
    "for i in range(0,size):\n",
    "    list.append(int(input(\"enter number=\")))\n",
    "linear(list)"
   ]
  },
  {
   "cell_type": "code",
   "execution_count": 6,
   "metadata": {},
   "outputs": [
    {
     "name": "stdout",
     "output_type": "stream",
     "text": [
      "Enter a no=14569\n",
      "[1, 4, 5, 6, 9]\n"
     ]
    }
   ],
   "source": [
    "#No.s to lists\n",
    "\n",
    "def notolist(n):\n",
    "    list=[]\n",
    "    while n!=0:\n",
    "        r=n%10\n",
    "        list.append(r)\n",
    "        n=n//10\n",
    "    list.reverse()\n",
    "    print(list)\n",
    "\n",
    "\n",
    "\n",
    "n=int(input(\"Enter a no=\"))\n",
    "notolist(n)"
   ]
  },
  {
   "cell_type": "code",
   "execution_count": 10,
   "metadata": {},
   "outputs": [
    {
     "name": "stdout",
     "output_type": "stream",
     "text": [
      "enter size=5\n",
      "enter number=1\n",
      "enter number=4\n",
      "enter number=5\n",
      "enter number=6\n",
      "enter number=9\n",
      "[1, 4, 5, 6, 9]\n",
      "1 4 5 6 9 "
     ]
    }
   ],
   "source": [
    "#lists to No.s\n",
    "\n",
    "size=int(input(\"enter size=\"))\n",
    "list=[]    \n",
    "for i in range(0,size):\n",
    "    list.append(int(input(\"enter number=\")))\n",
    "linear(list)\n",
    "\n",
    "def linear(a):\n",
    "    print(a)\n",
    "    for i in range(0,len(a)):\n",
    "        print(a[i],end=\"\")"
   ]
  },
  {
   "cell_type": "code",
   "execution_count": 11,
   "metadata": {},
   "outputs": [
    {
     "name": "stdout",
     "output_type": "stream",
     "text": [
      "enter size=5\n",
      "enter number=1\n",
      "enter number=4\n",
      "enter number=5\n",
      "enter number=6\n",
      "enter number=9\n",
      "[1, 4, 5, 6, 9]\n",
      "4 6 "
     ]
    }
   ],
   "source": [
    "#No.s List to even no.\n",
    "\n",
    "def linear(a):\n",
    "    print(a)\n",
    "    for i in range(len(a)):\n",
    "        if(a[i]%2==0):\n",
    "            print(a[i],end=\" \")\n",
    "\n",
    "size=int(input(\"enter size=\"))\n",
    "list=[]    \n",
    "for i in range(0,size):\n",
    "    list.append(int(input(\"enter number=\")))\n",
    "linear(list)"
   ]
  },
  {
   "cell_type": "code",
   "execution_count": 1,
   "metadata": {},
   "outputs": [
    {
     "name": "stdout",
     "output_type": "stream",
     "text": [
      "Enter a no=14569\n",
      "[4, 6]\n"
     ]
    }
   ],
   "source": [
    "#No.s to even no.list\n",
    "\n",
    "def notolist(n):\n",
    "    list=[]\n",
    "    while n!=0:\n",
    "        if(n%2==0):\n",
    "            list.append(n%10)\n",
    "        n=n//10\n",
    "    list.reverse()\n",
    "    print(list)\n",
    "    \n",
    "n=int(input(\"Enter a no=\"))\n",
    "notolist(n)"
   ]
  },
  {
   "cell_type": "code",
   "execution_count": 11,
   "metadata": {},
   "outputs": [
    {
     "name": "stdout",
     "output_type": "stream",
     "text": [
      "enter size=5\n",
      "enter no.=1\n",
      "enter no.=2\n",
      "enter no.=3\n",
      "enter no.=4\n",
      "enter no.=5\n",
      "[1, 2, 3, 4, 5]\n"
     ]
    },
    {
     "data": {
      "text/plain": [
       "[1, 4, 9, 16, 5]"
      ]
     },
     "execution_count": 11,
     "metadata": {},
     "output_type": "execute_result"
    }
   ],
   "source": [
    "\n",
    "def linear(b):\n",
    "    print(b)\n",
    "    a=[]\n",
    "    for i in range(0,len(b)):\n",
    "        if(i==0 or i==len(b)-1):\n",
    "            a.append(b[i])\n",
    "        else:\n",
    "            a.append(b[i]**2)\n",
    "    return a\n",
    "\n",
    "size=int(input(\"enter size=\"))\n",
    "list=[]\n",
    "for i in range(0,size):\n",
    "    list.append(int(input(\"enter no.=\")))\n",
    "linear(list)"
   ]
  },
  {
   "cell_type": "code",
   "execution_count": 12,
   "metadata": {},
   "outputs": [
    {
     "name": "stdout",
     "output_type": "stream",
     "text": [
      "enter size=5\n",
      "enter no.=15\n",
      "enter no.=19\n",
      "enter no.=12\n",
      "enter no.=16\n",
      "enter no.=4\n",
      "[15, 19, 12, 16, 4]\n"
     ]
    },
    {
     "data": {
      "text/plain": [
       "[15, 34, 31, 28, 4]"
      ]
     },
     "execution_count": 12,
     "metadata": {},
     "output_type": "execute_result"
    }
   ],
   "source": [
    "def linear(b):\n",
    "    print(b)\n",
    "    a=[]\n",
    "    for i in range(0,len(b)):\n",
    "        if(i==0 or i==len(b)-1):\n",
    "            a.append(b[i])\n",
    "        else:\n",
    "            a.append(b[i-1]+b[i])\n",
    "    return a\n",
    "\n",
    "size=int(input(\"enter size=\"))\n",
    "list=[]\n",
    "for i in range(0,size):\n",
    "    list.append(int(input(\"enter no.=\")))\n",
    "linear(list)"
   ]
  },
  {
   "cell_type": "code",
   "execution_count": null,
   "metadata": {},
   "outputs": [],
   "source": []
  }
 ],
 "metadata": {
  "kernelspec": {
   "display_name": "Python 3",
   "language": "python",
   "name": "python3"
  },
  "language_info": {
   "codemirror_mode": {
    "name": "ipython",
    "version": 3
   },
   "file_extension": ".py",
   "mimetype": "text/x-python",
   "name": "python",
   "nbconvert_exporter": "python",
   "pygments_lexer": "ipython3",
   "version": "3.7.3"
  }
 },
 "nbformat": 4,
 "nbformat_minor": 2
}
