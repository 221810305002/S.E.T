{
 "cells": [
  {
   "cell_type": "code",
   "execution_count": null,
   "metadata": {},
   "outputs": [],
   "source": [
    "#Create a New File\n",
    "To create a new file in Python, use the open() method, with one of the following parameters:\n",
    "\n",
    "\"x\" - Create - will create a file, returns an error if the file exist\n",
    "\n",
    "\"a\" - Append - will create a file if the specified file does not exist\n",
    "\n",
    "\"w\" - Write - will create a file if the specified file does not exist"
   ]
  },
  {
   "cell_type": "code",
   "execution_count": 66,
   "metadata": {},
   "outputs": [
    {
     "name": "stdout",
     "output_type": "stream",
     "text": [
      "Current Working path: C:\\Users\\student\\Desktop\\S.E.T\\Python\\Python(27-06-2019)\n"
     ]
    }
   ],
   "source": [
    "import os\n",
    "print(\"Current Working path: {}\".format(os.getcwd()))"
   ]
  },
  {
   "cell_type": "code",
   "execution_count": 38,
   "metadata": {},
   "outputs": [
    {
     "name": "stdout",
     "output_type": "stream",
     "text": [
      "Successfully created the directory d5953eab-624e-4fe0-be07-294800c3d5ef \n"
     ]
    }
   ],
   "source": [
    "import os \n",
    "import uuid\n",
    "path = str(uuid.uuid4())\n",
    "\n",
    "\n",
    "try:  \n",
    "    os.mkdir(path)\n",
    "except OSError:  \n",
    "    print (\"Creation of the directory %s failed\" % path)\n",
    "else:  \n",
    "    print (\"Successfully created the directory %s \" % path)\n",
    "\n",
    "    \n"
   ]
  },
  {
   "cell_type": "code",
   "execution_count": 39,
   "metadata": {},
   "outputs": [
    {
     "name": "stdout",
     "output_type": "stream",
     "text": [
      "Op. Successful\n"
     ]
    }
   ],
   "source": [
    "import os\n",
    "path=\"d5953eab-624e-4fe0-be07-294800c3d5ef\"\n",
    "\n",
    "try:\n",
    "    f=open(os.path.join(path,\"File1.txt\"),\"w\")\n",
    "    f.write(\"Welcome\")\n",
    "    f.close()\n",
    "except:print(\"Op. Not Successful\")\n",
    "else:print(\"Op. Successful\")"
   ]
  },
  {
   "cell_type": "code",
   "execution_count": 65,
   "metadata": {
    "scrolled": false
   },
   "outputs": [
    {
     "name": "stdout",
     "output_type": "stream",
     "text": [
      "File is created succesfully and data is written\n",
      "File is created succesfully and data is written\n",
      "This is 0 Line\n",
      "This is 1 Line\n",
      "This is 2 Line\n",
      "This is 3 Line\n",
      "This is 4 Line\n",
      "This is 5 Line\n",
      "This is 6 Line\n",
      "This is 7 Line\n",
      "This is 8 Line\n",
      "This is 9 Line\n",
      "\n",
      "File removed\n",
      "\n",
      "Spaces = 30 \n",
      "Lines = 10 \n",
      "Characters = 110\n",
      "Upper Case Characters = 20\n"
     ]
    }
   ],
   "source": [
    "import os\n",
    "\n",
    "def createFile(filename):\n",
    "    f=open(filename,\"w\")\n",
    "    for i in range(10):\n",
    "        f.write(\"This is %d Line\\n\"%i)\n",
    "    print(\"File is created succesfully and data is written\")\n",
    "    f.close()\n",
    "    return\n",
    "\n",
    "def readFile(filename):\n",
    "    f=open(filename,\"r\")\n",
    "    if f.mode==\"r\":\n",
    "        x=f.read()\n",
    "        print(x)\n",
    "    f.close()\n",
    "    return\n",
    "\n",
    "def appendFile(filename):\n",
    "    f=open(filename,\"a\")\n",
    "    for i in range(10,20):\n",
    "        f.write(\"This is %d Line\\n\"%i)\n",
    "    f.close()\n",
    "    return\n",
    "\n",
    "def wordCount(filename,word):\n",
    "    f=open(filename,\"r\")\n",
    "    if f.mode==\"r\":\n",
    "        lst=f.read()\n",
    "    cnt=lst.count(word)\n",
    "    f.close()\n",
    "    return cnt\n",
    "\n",
    "def charCount(filename):\n",
    "    f=open(filename,\"r\")\n",
    "    if f.mode==\"r\":\n",
    "        lst=f.read()\n",
    "        space , line , charc = 0,0,0\n",
    "        for i in lst:\n",
    "            if(i == \" \"):\n",
    "                space += 1\n",
    "            elif(i == \"\\n\"):\n",
    "                line += 1\n",
    "            else:\n",
    "                charc += 1\n",
    "    f.close()\n",
    "    \n",
    "    print(\"Spaces = {} \\nLines = {} \\nCharacters = {}\".format(space,line,charc))\n",
    "    return\n",
    "\n",
    "def upperCase(filename):\n",
    "    f=open(filename,\"r\")\n",
    "    if f.mode==\"r\":\n",
    "        lst=f.read()\n",
    "        cnt=0\n",
    "        for i in lst:\n",
    "            if(ord(i)>=65 and ord(i)<=90):\n",
    "                cnt+=1\n",
    "    f.close()\n",
    "    print(\"Upper Case Characters = {}\".format(cnt))\n",
    "    return\n",
    "\n",
    "createFile(\"file1.txt\")\n",
    "createFile(\"file2.txt\")\n",
    "readFile(\"file1.txt\")\n",
    "os.remove(\"file2.txt\");print(\"File removed\\n\")\n",
    "#appendFile(\"file3.txt\")\n",
    "#readFile(\"file3.txt\")\n",
    "wordCount(\"file1.txt\",\"This\")\n",
    "charCount(\"file1.txt\")\n",
    "upperCase(\"file1.txt\")"
   ]
  },
  {
   "cell_type": "code",
   "execution_count": 98,
   "metadata": {},
   "outputs": [
    {
     "name": "stdout",
     "output_type": "stream",
     "text": [
      "Op. Successful\n",
      "Successfully created the directory Z \n"
     ]
    }
   ],
   "source": [
    "import os \n",
    "import random\n",
    "path = chr(random.randint(65,90))\n",
    "\n",
    "\n",
    "try:  \n",
    "    os.mkdir(path)\n",
    "    \n",
    "    try:\n",
    "        for t in range(0,7):\n",
    "            x+=chr(random.randint(65,90))\n",
    "        f=open(os.path.join(path,str(x)+\".txt\"),\"w\")\n",
    "        f.write(\"Welcome\")\n",
    "        f.close()\n",
    "    except:print(\"Op. Not Successful\")\n",
    "    else:print(\"Op. Successful\")\n",
    "        \n",
    "        \n",
    "except OSError:  \n",
    "    print (\"Creation of the directory %s failed\" % path)\n",
    "else:  \n",
    "    print (\"Successfully created the directory %s \" % path)"
   ]
  },
  {
   "cell_type": "code",
   "execution_count": null,
   "metadata": {},
   "outputs": [],
   "source": [
    "#REGULAR EXPRESSIONS\n",
    "\n",
    "^[a-zA-Z0-9]{6-15}$ #upper,lower,digits\n",
    "\n",
    "^[6-9][0-9]{9}$  #regex for indian mobile number.1\n",
    "\n",
    "^[+][9][1][6-9][0-9]{9}$ #regex for ind mobile no.2\n",
    "\n",
    "^[0][6-9][0-9]{9}$ #regex for ind mobile no.3\n",
    "\n",
    "^[0-9a-z][0-9a-z_.]{4,13}[@][a-z0-9]{3,18}[.][a-z]{2,4}$ #regex for email-id\n",
    " \n",
    " #regex for password"
   ]
  },
  {
   "cell_type": "code",
   "execution_count": 101,
   "metadata": {},
   "outputs": [
    {
     "name": "stdout",
     "output_type": "stream",
     "text": [
      "True\n",
      "False\n",
      "True\n",
      "True\n"
     ]
    }
   ],
   "source": [
    "import re\n",
    "def phoneNumberValidate(phone):\n",
    "    pattern='^[6-9][0-9]{9}$|[+][9][1][6-9][0-9]{9}$|[0][6-9][0-9]{9}$'\n",
    "    phone=str(phone)\n",
    "    if re.match(pattern,phone):\n",
    "        return True\n",
    "    return False\n",
    "print(phoneNumberValidate(\"9988994433\"))\n",
    "print(phoneNumberValidate(\"998899443\"))\n",
    "print(phoneNumberValidate(\"+919988994433\"))\n",
    "print(phoneNumberValidate(\"09988994433\"))"
   ]
  },
  {
   "cell_type": "code",
   "execution_count": 103,
   "metadata": {},
   "outputs": [
    {
     "name": "stdout",
     "output_type": "stream",
     "text": [
      "True\n",
      "True\n"
     ]
    }
   ],
   "source": [
    "import re\n",
    "def emailIDvalidate(email):\n",
    "    pattern=\"^[0-9a-z][0-9a-z_.]{4,13}[@][a-z0-9]{3,18}[.][a-z]{2,4}$\"\n",
    "    if re.match(pattern,email):\n",
    "        return True\n",
    "    return False\n",
    "print(emailIDvalidate(\"221810305002@gitam.in\"))\n",
    "print(emailIDvalidate(\"akshat@nasa.gov\"))    "
   ]
  },
  {
   "cell_type": "code",
   "execution_count": 116,
   "metadata": {},
   "outputs": [
    {
     "name": "stdout",
     "output_type": "stream",
     "text": [
      "False\n",
      "True\n"
     ]
    }
   ],
   "source": [
    "import re\n",
    "def passwordvalidate(password):\n",
    "    pattern=\"^[a-zA-Z0-9@#!$]{6,15}$\"\n",
    "    if re.match(pattern,password):\n",
    "        return True\n",
    "    return False\n",
    "print(passwordvalidate(\"221810305002@gitam.in\"))\n",
    "print(passwordvalidate(\"uncalled#@999\"))    "
   ]
  },
  {
   "cell_type": "code",
   "execution_count": null,
   "metadata": {},
   "outputs": [],
   "source": []
  }
 ],
 "metadata": {
  "kernelspec": {
   "display_name": "Python 3",
   "language": "python",
   "name": "python3"
  },
  "language_info": {
   "codemirror_mode": {
    "name": "ipython",
    "version": 3
   },
   "file_extension": ".py",
   "mimetype": "text/x-python",
   "name": "python",
   "nbconvert_exporter": "python",
   "pygments_lexer": "ipython3",
   "version": "3.7.3"
  }
 },
 "nbformat": 4,
 "nbformat_minor": 2
}
