{
 "cells": [
  {
   "cell_type": "code",
   "execution_count": 2,
   "metadata": {},
   "outputs": [
    {
     "name": "stdout",
     "output_type": "stream",
     "text": [
      "John Doe\n"
     ]
    }
   ],
   "source": [
    "class Person:\n",
    "    def __init__(self, fname, lname):\n",
    "        self.firstname = fname\n",
    "        self.lastname = lname\n",
    "\n",
    "    def printname(self):\n",
    "        print(self.firstname, self.lastname)\n",
    "\n",
    "#Use the Person class to create an object, and then execute the printname method:\n",
    "\n",
    "x = Person(\"John\", \"Doe\")\n",
    "x.printname()\n"
   ]
  },
  {
   "cell_type": "code",
   "execution_count": 7,
   "metadata": {},
   "outputs": [
    {
     "name": "stdout",
     "output_type": "stream",
     "text": [
      "the Area =  400\n",
      "the perimeter=  80\n"
     ]
    }
   ],
   "source": [
    "class sq:\n",
    "    def __init__(self,side):\n",
    "        self.SIDE=side\n",
    "        \n",
    "    def getArea(self):\n",
    "        return self.SIDE*self.SIDE\n",
    "    \n",
    "    def getPerimeter(self):\n",
    "        return 4*self.SIDE\n",
    "\n",
    "obj=sq(20)\n",
    "print(\"the Area = \",obj.getArea())\n",
    "print(\"the perimeter= \",obj.getPerimeter())"
   ]
  },
  {
   "cell_type": "code",
   "execution_count": 26,
   "metadata": {},
   "outputs": [
    {
     "name": "stdout",
     "output_type": "stream",
     "text": [
      "Enter Number = 6\n",
      "The Factorial  6  is =  720\n"
     ]
    }
   ],
   "source": [
    "class factorial:\n",
    "    def fact(self,n):\n",
    "        self.factorial=1\n",
    "        for i in range (1,n+1):\n",
    "            self.factorial=i*self.factorial\n",
    "        return self.factorial\n",
    "\n",
    "obj=factorial()\n",
    "num=int(input(\"Enter Number = \"))\n",
    "print(\"The Factorial \",num,\" is = \",obj.fact(num))"
   ]
  },
  {
   "cell_type": "code",
   "execution_count": 29,
   "metadata": {},
   "outputs": [
    {
     "name": "stdout",
     "output_type": "stream",
     "text": [
      "Enter Num1 = 1\n",
      "Enter Num2 = 2\n",
      "The Sum Of  1  and  2  is =  3\n"
     ]
    }
   ],
   "source": [
    "class addition:\n",
    "      \n",
    "    def add(self,p1,p2):\n",
    "        return p1+p2\n",
    "    \n",
    "obj=addition()\n",
    "num1=int(input(\"Enter Num1 = \"))\n",
    "num2=int(input(\"Enter Num2 = \"))\n",
    "print(\"The Sum Of \",num1,\" and \",num2,\" is = \",obj.add(num1,num2))"
   ]
  },
  {
   "cell_type": "code",
   "execution_count": 33,
   "metadata": {},
   "outputs": [
    {
     "name": "stdout",
     "output_type": "stream",
     "text": [
      "[1 2 3 4 5 6]\n"
     ]
    }
   ],
   "source": [
    "import numpy as np\n",
    "a1=np.array([1,2,3])\n",
    "a2=np.array([4,5,6])\n",
    "print(np.hstack((a1,a2)))"
   ]
  },
  {
   "cell_type": "code",
   "execution_count": 34,
   "metadata": {},
   "outputs": [
    {
     "name": "stdout",
     "output_type": "stream",
     "text": [
      "[[1 2 3]\n",
      " [4 5 6]]\n"
     ]
    }
   ],
   "source": [
    "import numpy as np\n",
    "a1=np.array([1,2,3])\n",
    "a2=np.array([4,5,6])\n",
    "print(np.vstack((a1,a2)))"
   ]
  },
  {
   "cell_type": "code",
   "execution_count": 36,
   "metadata": {},
   "outputs": [
    {
     "data": {
      "text/plain": [
       "array([[1, 1, 1],\n",
       "       [1, 1, 1],\n",
       "       [1, 1, 1],\n",
       "       [1, 1, 1]], dtype=int64)"
      ]
     },
     "execution_count": 36,
     "metadata": {},
     "output_type": "execute_result"
    }
   ],
   "source": [
    "np.ones((4,3),dtype=np.int64)"
   ]
  },
  {
   "cell_type": "code",
   "execution_count": 44,
   "metadata": {},
   "outputs": [
    {
     "name": "stdout",
     "output_type": "stream",
     "text": [
      "[[ 1  1  1  1]\n",
      " [ 1  1  1 14]\n",
      " [ 1  1  1  1]\n",
      " [ 1  1  1 16]]\n"
     ]
    }
   ],
   "source": [
    "A=np.matrix(np.ones((4,4),dtype=np.int64))\n",
    "np.asarray(A)[1][3]=14\n",
    "np.asarray(A)[3][3]=16\n",
    "print(A)"
   ]
  },
  {
   "cell_type": "code",
   "execution_count": 45,
   "metadata": {},
   "outputs": [
    {
     "name": "stdout",
     "output_type": "stream",
     "text": [
      "[ 1 11 21 31 41 51 61 71 81 91]\n"
     ]
    }
   ],
   "source": [
    "outData=np.arange(1,100,10)\n",
    "print(outData)"
   ]
  },
  {
   "cell_type": "code",
   "execution_count": 53,
   "metadata": {},
   "outputs": [
    {
     "name": "stdout",
     "output_type": "stream",
     "text": [
      "[1 2 3]\n",
      "[[1 2 3]\n",
      " [4 5 6]] \n",
      "\n",
      "[[4 5 6]] \n",
      "\n"
     ]
    }
   ],
   "source": [
    "a1=np.array([(1,2,3),(4,5,6)])\n",
    "print(a1[0])\n",
    "print(a1,\"\\n\")\n",
    "\n",
    "print(a1[1:2],\"\\n\")"
   ]
  },
  {
   "cell_type": "code",
   "execution_count": 56,
   "metadata": {},
   "outputs": [
    {
     "name": "stdout",
     "output_type": "stream",
     "text": [
      "[4.17095642 4.47470242 4.53764228 5.99367589 6.35787152 5.71368869\n",
      " 4.61710058 5.3916811  5.48527694 3.76725004] \n",
      "\n",
      "Minimum values =  3.7672500443397015\n",
      "Maximum values =  6.35787151882732\n",
      "Mean values    =  5.050984589022661\n",
      "Median values  =  5.0043908392850796\n"
     ]
    }
   ],
   "source": [
    "a1=np.random.normal(5,1,10)\n",
    "print(a1,\"\\n\")\n",
    "\n",
    "print(\"Minimum values = \",np.min(a1))\n",
    "print(\"Maximum values = \",np.max(a1))\n",
    "print(\"Mean values    = \",np.mean(a1))\n",
    "print(\"Median values  = \",np.median(a1))"
   ]
  },
  {
   "cell_type": "code",
   "execution_count": 57,
   "metadata": {},
   "outputs": [
    {
     "data": {
      "text/plain": [
       "array([[ 7, 10],\n",
       "       [15, 22]])"
      ]
     },
     "execution_count": 57,
     "metadata": {},
     "output_type": "execute_result"
    }
   ],
   "source": [
    "a1=np.array([(1,2),(3,4)])\n",
    "a2=np.array([(1,2),(3,4)])\n",
    "np.dot(a1,a2)"
   ]
  },
  {
   "cell_type": "code",
   "execution_count": 3,
   "metadata": {},
   "outputs": [
    {
     "name": "stdout",
     "output_type": "stream",
     "text": [
      "      Name Ph No Address\n",
      "1      Uma   100       H\n",
      "2   Heckle   200       H\n",
      "3  Pilocia   300       H\n"
     ]
    }
   ],
   "source": [
    "import pandas as pd\n",
    "dict={\n",
    "    \"Name\":[\"Uma\",\"Heckle\",\"Pilocia\"],\n",
    "     \"Ph No\":[\"100\",\"200\",\"300\"],\n",
    "     \"Address\":[\"H\",\"H\",\"H\"]\n",
    "}\n",
    "\n",
    "b=pd.DataFrame(dict)\n",
    "b.index=[\"1\",\"2\",\"3\"]\n",
    "print(b)"
   ]
  },
  {
   "cell_type": "code",
   "execution_count": 23,
   "metadata": {},
   "outputs": [
    {
     "name": "stdout",
     "output_type": "stream",
     "text": [
      "Count of all characters in 213456111  is :\n",
      " {'2': 1, '1': 4, '3': 1, '4': 1, '5': 1, '6': 1}\n"
     ]
    }
   ],
   "source": [
    "test_str = \"213456111\"\n",
    "  \n",
    "all_freq = {} \n",
    "  \n",
    "for i in test_str: \n",
    "    if i in all_freq: \n",
    "        all_freq[i] += 1\n",
    "    else: \n",
    "        all_freq[i] = 1\n",
    "  \n",
    "# printing result  \n",
    "print (\"Count of all characters in\",test_str,\" is :\\n \"+  str(all_freq)) \n"
   ]
  },
  {
   "cell_type": "code",
   "execution_count": 13,
   "metadata": {},
   "outputs": [
    {
     "name": "stdout",
     "output_type": "stream",
     "text": [
      "The strings are anagrams.\n"
     ]
    }
   ],
   "source": [
    "def check(s1, s2): \n",
    "      \n",
    "    # the sorted strings are checked  \n",
    "    if(sorted(s1)== sorted(s2)): \n",
    "        print(\"The strings are anagrams.\")  \n",
    "    else: \n",
    "        print(\"The strings aren't anagrams.\")          \n",
    "          \n",
    "# driver code   \n",
    "s1 =\"listen\"\n",
    "s2 =\"silent\" \n",
    "check(s1, s2) "
   ]
  },
  {
   "cell_type": "code",
   "execution_count": 1,
   "metadata": {},
   "outputs": [
    {
     "name": "stdout",
     "output_type": "stream",
     "text": [
      "Enter a string = 213abc\n",
      "0 Times Repeated 0\n",
      "1 Times Repeated 1\n",
      "2 Times Repeated 1\n",
      "3 Times Repeated 1\n",
      "4 Times Repeated 0\n",
      "5 Times Repeated 0\n",
      "6 Times Repeated 0\n",
      "7 Times Repeated 0\n",
      "8 Times Repeated 0\n",
      "9 Times Repeated 0\n"
     ]
    }
   ],
   "source": [
    "string = input(\"Enter a string = \")\n",
    "\n",
    "Digits=['0','1','2','3','4','5','6','7','8','9']\n",
    "\n",
    "for i in range(10): \n",
    "    print(\"{} Times Repeated {}\".format(i,string.count(Digits[i])))"
   ]
  },
  {
   "cell_type": "code",
   "execution_count": null,
   "metadata": {},
   "outputs": [],
   "source": []
  },
  {
   "cell_type": "code",
   "execution_count": null,
   "metadata": {},
   "outputs": [],
   "source": []
  }
 ],
 "metadata": {
  "kernelspec": {
   "display_name": "Python 3",
   "language": "python",
   "name": "python3"
  },
  "language_info": {
   "codemirror_mode": {
    "name": "ipython",
    "version": 3
   },
   "file_extension": ".py",
   "mimetype": "text/x-python",
   "name": "python",
   "nbconvert_exporter": "python",
   "pygments_lexer": "ipython3",
   "version": "3.7.3"
  }
 },
 "nbformat": 4,
 "nbformat_minor": 2
}
