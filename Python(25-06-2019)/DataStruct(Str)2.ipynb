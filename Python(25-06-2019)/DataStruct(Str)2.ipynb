{
 "cells": [
  {
   "cell_type": "code",
   "execution_count": 4,
   "metadata": {},
   "outputs": [
    {
     "name": "stdout",
     "output_type": "stream",
     "text": [
      "abcdefghij\n"
     ]
    }
   ],
   "source": [
    "a = 'acegi'\n",
    "b = 'bdfhj'\n",
    "\n",
    "c = ''\n",
    "for i in range(len(a)):\n",
    "    c += a[i] + b[i]\n",
    "\n",
    "print(c)"
   ]
  },
  {
   "cell_type": "code",
   "execution_count": 5,
   "metadata": {},
   "outputs": [
    {
     "name": "stdout",
     "output_type": "stream",
     "text": [
      "Hello World\n"
     ]
    }
   ],
   "source": [
    "def case(str):\n",
    "    b=''\n",
    "    for i in range(len(str)):\n",
    "        if ord(str[i])>=65 and ord(str[i])<=90:\n",
    "            ch=chr(ord(str[i])+32)\n",
    "            b=b+ch\n",
    "        elif ord(str[i])>=97 and ord(str[i])<=122:\n",
    "            ch=chr(ord(str[i])-32)\n",
    "            b=b+ch\n",
    "        else:\n",
    "            b=b+str[i]\n",
    "    print(b)\n",
    "case(\"hELLO wORLD\")"
   ]
  },
  {
   "cell_type": "code",
   "execution_count": 9,
   "metadata": {},
   "outputs": [
    {
     "name": "stdout",
     "output_type": "stream",
     "text": [
      "axby\n"
     ]
    }
   ],
   "source": [
    "def adj(str1,str2):\n",
    "    str=''\n",
    "    if len(str1)>=len(str2):\n",
    "        size=len(str1)\n",
    "    else:\n",
    "        size=len(str2)\n",
    "    for i in range(size):\n",
    "        if i in range(len(str1)):\n",
    "            str=str+str1[i]\n",
    "        if i in range(len(str2)):\n",
    "            str=str+str2[i]\n",
    "    return str\n",
    "str1=\"ab\"\n",
    "str2=\"xy\"\n",
    "print(adj(str1,str2))"
   ]
  },
  {
   "cell_type": "code",
   "execution_count": null,
   "metadata": {},
   "outputs": [],
   "source": [
    "def specificWord(str,n):\n",
    "    space_count=0"
   ]
  }
 ],
 "metadata": {
  "kernelspec": {
   "display_name": "Python 3",
   "language": "python",
   "name": "python3"
  },
  "language_info": {
   "codemirror_mode": {
    "name": "ipython",
    "version": 3
   },
   "file_extension": ".py",
   "mimetype": "text/x-python",
   "name": "python",
   "nbconvert_exporter": "python",
   "pygments_lexer": "ipython3",
   "version": "3.7.3"
  }
 },
 "nbformat": 4,
 "nbformat_minor": 2
}
