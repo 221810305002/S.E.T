{
 "cells": [
  {
   "cell_type": "code",
   "execution_count": 1,
   "metadata": {},
   "outputs": [
    {
     "name": "stdout",
     "output_type": "stream",
     "text": [
      "enter size=3\n",
      "enter number=1\n",
      "enter number=2\n",
      "enter number=3\n",
      "enter number to check=2\n",
      "list in sorted order: [1, 2, 3]\n",
      "element found\n"
     ]
    }
   ],
   "source": [
    "#binary search sorted order\n",
    "\n",
    "size=int(input(\"enter size=\"))\n",
    "list=[]\n",
    "for count in range(0,size):\n",
    "    list.append(int(input(\"enter number=\")))\n",
    "check=int(input(\"enter number to check=\"))\n",
    "\n",
    "for i in range(0,len(list)):\n",
    "    for j in range(0,len(list)-(i+1)):\n",
    "        if(list[j]>list[j+1]):\n",
    "            temp=list[j]\n",
    "            list[j]=list[j+1]\n",
    "            list[j+1]=temp\n",
    "print(\"list in sorted order: \"+str(list))\n",
    "\n",
    "def binarysearch(x):\n",
    "    low=0;high=size-1\n",
    "    while(low<=high):\n",
    "        mid=int((low+high)/2)\n",
    "        if(x==list[mid]):return 1\n",
    "        elif(x>list[mid]):low=(low+mid)\n",
    "        else:high=int(high-mid)\n",
    "            \n",
    "if(binarysearch(check)):print(\"element found\")\n",
    "else:print(\"element not found\")"
   ]
  },
  {
   "cell_type": "code",
   "execution_count": 4,
   "metadata": {},
   "outputs": [
    {
     "name": "stdout",
     "output_type": "stream",
     "text": [
      "enter size=6\n",
      "enter number=19\n",
      "enter number=1\n",
      "enter number=25\n",
      "enter number=6\n",
      "enter number=18\n",
      "enter number=3\n",
      "[1, 3, 6, 18, 19, 25]\n"
     ]
    }
   ],
   "source": [
    "#bubble sort\n",
    "\n",
    "size=int(input(\"enter size=\"))\n",
    "list=[]\n",
    "for count in range(0,size):\n",
    "    list.append(int(input(\"enter number=\")))\n",
    "\n",
    "for i in range(0,size):\n",
    "    for j in range(0,size-(i+1)):\n",
    "        if(list[j]>list[j+1]):\n",
    "            temp=list[j]\n",
    "            list[j]=list[j+1]\n",
    "            list[j+1]=temp\n",
    "print(list)"
   ]
  },
  {
   "cell_type": "code",
   "execution_count": 9,
   "metadata": {},
   "outputs": [
    {
     "name": "stdout",
     "output_type": "stream",
     "text": [
      "\n",
      "    Application \n",
      "    Test\n",
      "    working\n",
      "    completed\n",
      "    strings\n",
      "      +\n",
      "    python\n",
      "    \n"
     ]
    }
   ],
   "source": [
    "#strings\n",
    "\n",
    "a = \"\"\"\n",
    "    Application \n",
    "    Test\n",
    "    working\n",
    "    completed\n",
    "    strings\n",
    "      +\n",
    "    python\n",
    "    \"\"\"\n",
    "print(a)"
   ]
  },
  {
   "cell_type": "code",
   "execution_count": 40,
   "metadata": {},
   "outputs": [
    {
     "name": "stdout",
     "output_type": "stream",
     "text": [
      "application\n",
      "str[0]= a\n",
      "str[1]= p\n",
      "str[-1]= n\n",
      "str[-3]= i\n",
      "str[1:5]= ppli\n",
      "str[:5]= appli\n",
      "str[5:-2]= cati\n",
      "str[::-1]= noitacilppa\n",
      "str[5:-4]= ca\n"
     ]
    }
   ],
   "source": [
    "str=\"application\"\n",
    "print(str)\n",
    "print(\"str[0]=\",str[0])\n",
    "print(\"str[1]=\",str[1])\n",
    "print(\"str[-1]=\",str[-1])\n",
    "print(\"str[-3]=\",str[-3])\n",
    "print(\"str[1:5]=\",str[1:5])\n",
    "print(\"str[:5]=\",str[:5])\n",
    "print(\"str[5:-2]=\",str[5:-2])\n",
    "print(\"str[::-1]=\",str[::-1])\n",
    "print(\"str[5:-4]=\",str[5:-4])"
   ]
  },
  {
   "cell_type": "code",
   "execution_count": 18,
   "metadata": {},
   "outputs": [
    {
     "data": {
      "text/plain": [
       "11"
      ]
     },
     "execution_count": 18,
     "metadata": {},
     "output_type": "execute_result"
    }
   ],
   "source": [
    "def countofChars(n):\n",
    "    return len(n)\n",
    "countofChars(\"Application\")"
   ]
  },
  {
   "cell_type": "code",
   "execution_count": 19,
   "metadata": {},
   "outputs": [
    {
     "name": "stdout",
     "output_type": "stream",
     "text": [
      "HELLO WORLD\n"
     ]
    }
   ],
   "source": [
    "a=\"hello world\"\n",
    "print(a.upper())"
   ]
  },
  {
   "cell_type": "code",
   "execution_count": 36,
   "metadata": {},
   "outputs": [
    {
     "name": "stdout",
     "output_type": "stream",
     "text": [
      "enter string=AUStral49\n",
      "Upper case in string AUStral49 is 3\n",
      "lower case in string AUStral49 is 4\n",
      "digital case in string AUStral49 is 2\n"
     ]
    }
   ],
   "source": [
    "s=input(\"enter string=\")\n",
    "\n",
    "def uppr(s):\n",
    "    c=0\n",
    "    for i in range(0,len(s)):\n",
    "        if (ord(s[i])>=65 and ord(s[i])<=91):\n",
    "               c=c+1\n",
    "    return c\n",
    "\n",
    "def lower(s):\n",
    "    c=0\n",
    "    for i in range(0,len(s)):\n",
    "        if (ord(s[i])>=97 and ord(s[i])<=123):\n",
    "               c=c+1\n",
    "    return c\n",
    "\n",
    "def digi(s):\n",
    "    c=0\n",
    "    for i in range(0,len(s)):\n",
    "        if (ord(s[i])>=48 and ord(s[i])<=57):\n",
    "               c=c+1\n",
    "    return c\n",
    "\n",
    "\n",
    "print(\"Upper case in string \"+ s +\" is\",uppr(s))\n",
    "print(\"lower case in string \"+ s +\" is\",lower(s))\n",
    "print(\"digital case in string \"+ s +\" is\",digi(s))"
   ]
  },
  {
   "cell_type": "code",
   "execution_count": 45,
   "metadata": {},
   "outputs": [
    {
     "name": "stdout",
     "output_type": "stream",
     "text": [
      "enter string=AUS49\n",
      "no. of digits in AUS49 is : 49\n"
     ]
    }
   ],
   "source": [
    "s=input(\"enter string=\")\n",
    "\n",
    "def digi(s):\n",
    "    c=''\n",
    "    for i in range(0,len(s)):\n",
    "        if (ord(s[i])>=48 and ord(s[i])<=57):c=c+s[i]\n",
    "             \n",
    "    return c\n",
    "\n",
    "print(\"no. of digits in \"+s+\" is :\",digi(s))"
   ]
  },
  {
   "cell_type": "code",
   "execution_count": null,
   "metadata": {},
   "outputs": [],
   "source": [
    "s=input(\"enter string=\")\n",
    "\n",
    "def digi(s):\n",
    "    c=0\n",
    "    for i in range(0,len(s)):\n",
    "        if (ord(s[i])>=48 and ord(s[i])<=57):c=c+int(s[i])\n",
    "             \n",
    "    return c\n",
    "\n",
    "print(\"no. of digits in \"+s+\" is :\",digi(s))"
   ]
  },
  {
   "cell_type": "code",
   "execution_count": 5,
   "metadata": {},
   "outputs": [
    {
     "name": "stdout",
     "output_type": "stream",
     "text": [
      "enter string=1889\n",
      "no. of digits in 1889 is : 16\n"
     ]
    }
   ],
   "source": [
    "s=input(\"enter string=\")\n",
    "\n",
    "def evensum(s):\n",
    "    sum=0\n",
    "    for i in range(0,len(s)):\n",
    "        if (ord(s[i])>=48 and ord(s[i])<=57):\n",
    "            if(int(s[i])%2==0):   \n",
    "                sum=sum+int(s[i])\n",
    "             \n",
    "    return sum\n",
    "\n",
    "print(\"no. of digits in \"+ s +\" is :\",evensum(s))"
   ]
  },
  {
   "cell_type": "code",
   "execution_count": null,
   "metadata": {},
   "outputs": [],
   "source": []
  }
 ],
 "metadata": {
  "kernelspec": {
   "display_name": "Python 3",
   "language": "python",
   "name": "python3"
  },
  "language_info": {
   "codemirror_mode": {
    "name": "ipython",
    "version": 3
   },
   "file_extension": ".py",
   "mimetype": "text/x-python",
   "name": "python",
   "nbconvert_exporter": "python",
   "pygments_lexer": "ipython3",
   "version": "3.7.3"
  }
 },
 "nbformat": 4,
 "nbformat_minor": 2
}
