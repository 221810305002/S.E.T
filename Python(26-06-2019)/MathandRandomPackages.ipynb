{
 "cells": [
  {
   "cell_type": "code",
   "execution_count": 22,
   "metadata": {},
   "outputs": [],
   "source": [
    "#MATH PACKAGE/MODULE FUNCTIONS"
   ]
  },
  {
   "cell_type": "code",
   "execution_count": 2,
   "metadata": {},
   "outputs": [
    {
     "data": {
      "text/plain": [
       "2.0"
      ]
     },
     "execution_count": 2,
     "metadata": {},
     "output_type": "execute_result"
    }
   ],
   "source": [
    "import math\n",
    "math.sqrt(4)"
   ]
  },
  {
   "cell_type": "code",
   "execution_count": 3,
   "metadata": {},
   "outputs": [
    {
     "name": "stdout",
     "output_type": "stream",
     "text": [
      "The floor of 21.6 is: 21\n"
     ]
    }
   ],
   "source": [
    "import math\n",
    "\n",
    "data = 21.6\n",
    "print('The floor of 21.6 is:', math.floor(data))"
   ]
  },
  {
   "cell_type": "code",
   "execution_count": 4,
   "metadata": {},
   "outputs": [
    {
     "name": "stdout",
     "output_type": "stream",
     "text": [
      "The value of PI: 3.141592653589793\n"
     ]
    }
   ],
   "source": [
    "import math\n",
    "\n",
    "print('The value of PI:',math.pi)"
   ]
  },
  {
   "cell_type": "code",
   "execution_count": 5,
   "metadata": {},
   "outputs": [
    {
     "name": "stdout",
     "output_type": "stream",
     "text": [
      "8.0\n"
     ]
    }
   ],
   "source": [
    "import math\n",
    "\n",
    "print(math.pow(2, 3))"
   ]
  },
  {
   "cell_type": "code",
   "execution_count": 6,
   "metadata": {},
   "outputs": [
    {
     "name": "stdout",
     "output_type": "stream",
     "text": [
      "22\n"
     ]
    }
   ],
   "source": [
    "import math\n",
    "\n",
    "data = 21.6\n",
    "print(math.ceil(21.6))"
   ]
  },
  {
   "cell_type": "code",
   "execution_count": 7,
   "metadata": {},
   "outputs": [
    {
     "name": "stdout",
     "output_type": "stream",
     "text": [
      "The given number is : -21.19\n",
      "Absolute value is : 21.19\n"
     ]
    }
   ],
   "source": [
    "import math\n",
    "\n",
    "number = -21.19\n",
    "\n",
    "print('The given number is :', number)\n",
    "print('Absolute value is :', math.fabs(number))"
   ]
  },
  {
   "cell_type": "code",
   "execution_count": 8,
   "metadata": {},
   "outputs": [
    {
     "name": "stdout",
     "output_type": "stream",
     "text": [
      "123\n",
      "345\n"
     ]
    }
   ],
   "source": [
    "import math\n",
    "\n",
    "# Truncate this value.\n",
    "value1 = 123.45\n",
    "truncate1 = math.trunc(value1)\n",
    "print(truncate1)\n",
    "\n",
    "# Truncate another value.\n",
    "value2 = 345.67\n",
    "truncate2 = math.trunc(value2)\n",
    "print(truncate2)"
   ]
  },
  {
   "cell_type": "code",
   "execution_count": 12,
   "metadata": {},
   "outputs": [
    {
     "name": "stdout",
     "output_type": "stream",
     "text": [
      "2.718281828459045\n"
     ]
    }
   ],
   "source": [
    "import math\n",
    "\n",
    "# This returns the value of e.\n",
    "print(math.e)\n"
   ]
  },
  {
   "cell_type": "code",
   "execution_count": 13,
   "metadata": {},
   "outputs": [
    {
     "name": "stdout",
     "output_type": "stream",
     "text": [
      "The given angle is : 1.5707963267948966\n",
      "sin(x) is : 1.0\n"
     ]
    }
   ],
   "source": [
    "import math\n",
    "\n",
    "angleInDegree = 90\n",
    "angleInRadian = math.radians(angleInDegree)\n",
    "\n",
    "print('The given angle is :', angleInRadian)\n",
    "print('sin(x) is :', math.sin(angleInRadian))\n"
   ]
  },
  {
   "cell_type": "code",
   "execution_count": 14,
   "metadata": {},
   "outputs": [
    {
     "name": "stdout",
     "output_type": "stream",
     "text": [
      "The given angle is : 1.5707963267948966\n",
      "cos(x) is : 6.123233995736766e-17\n",
      "tan(x) is : 1.633123935319537e+16\n"
     ]
    }
   ],
   "source": [
    "import math\n",
    "\n",
    "angleInDegree = 90\n",
    "angleInRadian = math.radians(angleInDegree)\n",
    "\n",
    "print('The given angle is :', angleInRadian)\n",
    "print('cos(x) is :', math.cos(angleInRadian))\n",
    "print('tan(x) is :', math.tan(angleInRadian))"
   ]
  },
  {
   "cell_type": "code",
   "execution_count": 23,
   "metadata": {},
   "outputs": [],
   "source": [
    "#RANDOM PACKAGE/MODULE FUNCTIONS"
   ]
  },
  {
   "cell_type": "code",
   "execution_count": 1,
   "metadata": {},
   "outputs": [
    {
     "name": "stdout",
     "output_type": "stream",
     "text": [
      "96 13 72 118 12 90 100 72 104 106 "
     ]
    }
   ],
   "source": [
    "import random\n",
    "def generateRandomNumbers(n,lb,ub):\n",
    "    for i in range(0,n):\n",
    "        print(random.randint(lb,ub),end=\" \")\n",
    "    return\n",
    "generateRandomNumbers(10,12,120)"
   ]
  },
  {
   "cell_type": "code",
   "execution_count": 16,
   "metadata": {},
   "outputs": [
    {
     "name": "stdout",
     "output_type": "stream",
     "text": [
      "4\n"
     ]
    }
   ],
   "source": [
    "import random\n",
    "print(random.randint(0, 5))"
   ]
  },
  {
   "cell_type": "code",
   "execution_count": 17,
   "metadata": {},
   "outputs": [
    {
     "data": {
      "text/plain": [
       "'Ipsum'"
      ]
     },
     "execution_count": 17,
     "metadata": {},
     "output_type": "execute_result"
    }
   ],
   "source": [
    "import random\n",
    "myList = [2, 109, False, 10, \"Lorem\", 482, \"Ipsum\"]\n",
    "random.choice(myList)"
   ]
  },
  {
   "cell_type": "code",
   "execution_count": 19,
   "metadata": {},
   "outputs": [
    {
     "name": "stdout",
     "output_type": "stream",
     "text": [
      "70\n",
      "75\n",
      "70\n"
     ]
    }
   ],
   "source": [
    "import random\n",
    "for i in range(3):\n",
    "    print(random.randrange(0, 101, 5))"
   ]
  },
  {
   "cell_type": "code",
   "execution_count": 20,
   "metadata": {},
   "outputs": [
    {
     "name": "stdout",
     "output_type": "stream",
     "text": [
      "Printing random number using random.random()\n",
      "0.2350653105063485\n"
     ]
    }
   ],
   "source": [
    "import random\n",
    "print(\"Printing random number using random.random()\")\n",
    "print(random.random())"
   ]
  },
  {
   "cell_type": "code",
   "execution_count": 21,
   "metadata": {},
   "outputs": [
    {
     "name": "stdout",
     "output_type": "stream",
     "text": [
      "random.sample()  [2, 5, 12]\n"
     ]
    }
   ],
   "source": [
    "import random\n",
    "list = [2,5,8,9,12]\n",
    "print (\"random.sample() \",random.sample(list,3))"
   ]
  },
  {
   "cell_type": "code",
   "execution_count": 25,
   "metadata": {},
   "outputs": [
    {
     "name": "stdout",
     "output_type": "stream",
     "text": [
      "sampling with choices method  [50, 90, 80, 90, 70]\n"
     ]
    }
   ],
   "source": [
    "import random\n",
    "#sampling with replacement\n",
    "list = [20, 30, 40, 50 ,60, 70, 80, 90]\n",
    "sampling = random.choices(list, k=5)\n",
    "print(\"sampling with choices method \", sampling)"
   ]
  },
  {
   "cell_type": "code",
   "execution_count": 26,
   "metadata": {},
   "outputs": [
    {
     "name": "stdout",
     "output_type": "stream",
     "text": [
      "Printing shuffled list  [12, 5, 9, 2, 8]\n"
     ]
    }
   ],
   "source": [
    "list = [2,5,8,9,12]\n",
    "random.shuffle(list)\n",
    "print (\"Printing shuffled list \", list)"
   ]
  },
  {
   "cell_type": "code",
   "execution_count": 29,
   "metadata": {},
   "outputs": [
    {
     "name": "stdout",
     "output_type": "stream",
     "text": [
      "floating point within given range\n",
      "21.208622600009654\n"
     ]
    }
   ],
   "source": [
    "import random\n",
    "print(\"floating point within given range\")\n",
    "print(random.uniform(10.5, 25.5))"
   ]
  }
 ],
 "metadata": {
  "kernelspec": {
   "display_name": "Python 3",
   "language": "python",
   "name": "python3"
  },
  "language_info": {
   "codemirror_mode": {
    "name": "ipython",
    "version": 3
   },
   "file_extension": ".py",
   "mimetype": "text/x-python",
   "name": "python",
   "nbconvert_exporter": "python",
   "pygments_lexer": "ipython3",
   "version": "3.7.3"
  }
 },
 "nbformat": 4,
 "nbformat_minor": 2
}
